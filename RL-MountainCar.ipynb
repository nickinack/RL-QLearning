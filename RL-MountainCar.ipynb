{
 "cells": [
  {
   "cell_type": "code",
   "execution_count": 2,
   "metadata": {},
   "outputs": [
    {
     "name": "stdout",
     "output_type": "stream",
     "text": [
      "Populating the interactive namespace from numpy and matplotlib\n"
     ]
    }
   ],
   "source": [
    "import gym\n",
    "%pylab inline"
   ]
  },
  {
   "cell_type": "code",
   "execution_count": 4,
   "metadata": {},
   "outputs": [
    {
     "data": {
      "text/plain": [
       "array([-0.40723108,  0.        ])"
      ]
     },
     "execution_count": 4,
     "metadata": {},
     "output_type": "execute_result"
    }
   ],
   "source": [
    "#Make the environment and reset it\n",
    "env = gym.make('MountainCar-v0')\n",
    "env.reset()"
   ]
  },
  {
   "cell_type": "code",
   "execution_count": 8,
   "metadata": {},
   "outputs": [
    {
     "name": "stdout",
     "output_type": "stream",
     "text": [
      "Discrete(3)\n",
      "Box(2,)\n"
     ]
    }
   ],
   "source": [
    "#Explore the action space\n",
    "print(env.action_space)\n",
    "print(env.observation_space)"
   ]
  },
  {
   "cell_type": "code",
   "execution_count": 12,
   "metadata": {},
   "outputs": [
    {
     "data": {
      "text/plain": [
       "array([-0.54440131,  0.        ])"
      ]
     },
     "execution_count": 12,
     "metadata": {},
     "output_type": "execute_result"
    }
   ],
   "source": [
    "#After exploration, try rendering and experimenting with the environment\n",
    "for i in range(500):\n",
    "    env.step(2)\n",
    "    env.render()\n",
    "env.close()\n",
    "env.reset()"
   ]
  },
  {
   "cell_type": "code",
   "execution_count": 13,
   "metadata": {},
   "outputs": [
    {
     "name": "stdout",
     "output_type": "stream",
     "text": [
      "(array([-5.44245393e-01,  1.55917755e-04]), -1.0, False, {})\n"
     ]
    }
   ],
   "source": [
    "#Now we come to the original problem, we have to get the car to the top\n",
    "print(env.step(1))"
   ]
  },
  {
   "cell_type": "code",
   "execution_count": 14,
   "metadata": {},
   "outputs": [
    {
     "data": {
      "text/plain": [
       "array([-5.43934724e-01,  3.10668387e-04])"
      ]
     },
     "execution_count": 14,
     "metadata": {},
     "output_type": "execute_result"
    }
   ],
   "source": [
    "#This gives the position and the velocity of the car\n",
    "env.step(1)[0]"
   ]
  },
  {
   "cell_type": "code",
   "execution_count": 15,
   "metadata": {},
   "outputs": [
    {
     "data": {
      "text/plain": [
       "-1.0"
      ]
     },
     "execution_count": 15,
     "metadata": {},
     "output_type": "execute_result"
    }
   ],
   "source": [
    "#This gives the reward for the move we made\n",
    "env.step(1)[1]"
   ]
  },
  {
   "cell_type": "code",
   "execution_count": 16,
   "metadata": {},
   "outputs": [
    {
     "data": {
      "text/plain": [
       "False"
      ]
     },
     "execution_count": 16,
     "metadata": {},
     "output_type": "execute_result"
    }
   ],
   "source": [
    "#This gives a bool value to check if we reached our destination\n",
    "env.step(1)[2]"
   ]
  },
  {
   "cell_type": "code",
   "execution_count": 20,
   "metadata": {},
   "outputs": [
    {
     "name": "stdout",
     "output_type": "stream",
     "text": [
      "[-1.2  -0.07]\n",
      "[0.6  0.07]\n"
     ]
    }
   ],
   "source": [
    "#Now using these, we must optimize our output and hence we will initialise a q_table\n",
    "#But before that we must see what our observation space consists of\n",
    "print(env.observation_space.low)\n",
    "print(env.observation_space.high)"
   ]
  },
  {
   "cell_type": "code",
   "execution_count": 23,
   "metadata": {},
   "outputs": [
    {
     "name": "stdout",
     "output_type": "stream",
     "text": [
      "[-1.2        -1.10526316 -1.01052632 -0.91578947 -0.82105263 -0.72631579\n",
      " -0.63157895 -0.53684211 -0.44210526 -0.34736842 -0.25263158 -0.15789474\n",
      " -0.06315789  0.03157895  0.12631579  0.22105263  0.31578947  0.41052632\n",
      "  0.50526316  0.6       ] [-0.07       -0.06263158 -0.05526316 -0.04789474 -0.04052632 -0.03315789\n",
      " -0.02578947 -0.01842105 -0.01105263 -0.00368421  0.00368421  0.01105263\n",
      "  0.01842105  0.02578947  0.03315789  0.04052632  0.04789474  0.05526316\n",
      "  0.06263158  0.07      ]\n"
     ]
    }
   ],
   "source": [
    "#Using he above values, we will make discrete points of velocities and positions of our cart\n",
    "pos_arr = np.linspace(-1.2,0.6,20)\n",
    "vel_arr = np.linspace(-0.07,0.07,20)\n",
    "print(pos_arr , vel_arr)"
   ]
  },
  {
   "cell_type": "code",
   "execution_count": 67,
   "metadata": {
    "collapsed": true,
    "jupyter": {
     "outputs_hidden": true
    }
   },
   "outputs": [
    {
     "data": {
      "text/plain": [
       "(array([-0.41968951,  0.02449702]), -1.0, False, {})"
      ]
     },
     "execution_count": 67,
     "metadata": {},
     "output_type": "execute_result"
    }
   ],
   "source": [
    "#Now lets say , we have a given action pair\n",
    "env.step(2)\n",
    "#We notice, the given tuple for position and velocity must correspond to a given state in the above arrays"
   ]
  },
  {
   "cell_type": "code",
   "execution_count": 75,
   "metadata": {},
   "outputs": [
    {
     "data": {
      "text/plain": [
       "(8, 10)"
      ]
     },
     "execution_count": 75,
     "metadata": {},
     "output_type": "execute_result"
    }
   ],
   "source": [
    "#Hence we define a function to get their states\n",
    "def get_state(obs):\n",
    "    pos,vel = obs\n",
    "    pos_idx = np.digitize(pos,pos_arr)\n",
    "    vel_idx = np.digitize(vel,vel_arr)\n",
    "    return(pos_idx , vel_idx)\n",
    "\n",
    "get_state(env.reset())"
   ]
  },
  {
   "cell_type": "code",
   "execution_count": 114,
   "metadata": {},
   "outputs": [],
   "source": [
    "#Now, lets make a q_table in order to optimise the state action pair\n",
    "#Action pairs = 20\n",
    "#Velcity pairs = 20\n",
    "#Total number of states = 400\n",
    "state = []\n",
    "for i in range(21):\n",
    "    for j in range(21):\n",
    "        state.append((i,j))\n",
    "        \n",
    "Q = {}\n",
    "for i in state:\n",
    "    for j in range(0,3):\n",
    "        Q[i , j] = 0\n",
    "        \n",
    "#Print the dict to double check:\n",
    "#print(Q)\n",
    "        "
   ]
  },
  {
   "cell_type": "code",
   "execution_count": 115,
   "metadata": {},
   "outputs": [
    {
     "data": {
      "text/plain": [
       "array([-0.52407863,  0.        ])"
      ]
     },
     "execution_count": 115,
     "metadata": {},
     "output_type": "execute_result"
    }
   ],
   "source": [
    "#Now, we make a function to get the max q_value value from a given Q[state] array\n",
    "def get_max(Q , obs):\n",
    "    return np.argmax([Q[obs,0] , Q[obs,1] , Q[obs,2]])\n",
    "#Check\n",
    "#state = (8,10)\n",
    "#get_max(Q , state)\n",
    "env.reset()"
   ]
  },
  {
   "cell_type": "code",
   "execution_count": null,
   "metadata": {},
   "outputs": [],
   "source": [
    "#Now we start optimising out q_table\n",
    "env.reset()\n",
    "env._max_episode_steps = 1000\n",
    "#Set discount factor, learning rate and ephsilon for MDP\n",
    "#Set the number of times for which you want to repeat this\n",
    "alpha = 0.1\n",
    "gamma = 0.99\n",
    "ephsilon = 1.0\n",
    "env.reset()\n",
    "n = 50000\n",
    "total_rewards = np.zeros(n)\n",
    "mean_rewards = np.zeros(n)\n",
    "for i in range (0,n):\n",
    "    done = False\n",
    "    obs = env.reset()\n",
    "    state = get_state(obs)\n",
    "    score = 0\n",
    "    while not done :\n",
    "        if np.random.uniform(0,1) < ephsilon:\n",
    "            action = np.random.choice([0,1,2])\n",
    "        else:\n",
    "            action = get_max(Q,state)\n",
    "        obs_new , reward , done , info = env.step(action)\n",
    "        score = score + reward\n",
    "        state_new = get_state(obs_new)\n",
    "        action_new = get_max(Q,state_new)\n",
    "        #Use formula\n",
    "        Q[state_new , action_new] = Q[state_new , action_new] + alpha*(reward + gamma*Q[state_new , action_new] - Q[state , action])\n",
    "        state = state_new\n",
    "    total_rewards[i] = score\n",
    "    #Update ephsilon\n",
    "    if ephsilon > 0.01:\n",
    "        ephsilon = ephsilon - (2/n)\n",
    "    else:\n",
    "        ephsilon = 0.01\n",
    "        \n",
    "\n",
    "    \n",
    "        "
   ]
  },
  {
   "cell_type": "code",
   "execution_count": 153,
   "metadata": {},
   "outputs": [],
   "source": [
    "obs = env.reset()\n",
    "state = get_state(obs)\n",
    "done = False \n",
    "score = 0\n",
    "while not done:\n",
    "    action = get_max(Q,state)\n",
    "    env.step(action)\n",
    "    obs , reward , done , info = env.step(action)\n",
    "    score += reward\n",
    "    state = get_state(obs)\n",
    "    env.render()\n",
    "env.close()\n",
    "    "
   ]
  },
  {
   "cell_type": "code",
   "execution_count": null,
   "metadata": {},
   "outputs": [],
   "source": []
  }
 ],
 "metadata": {
  "kernelspec": {
   "display_name": "Python 3",
   "language": "python",
   "name": "python3"
  },
  "language_info": {
   "codemirror_mode": {
    "name": "ipython",
    "version": 3
   },
   "file_extension": ".py",
   "mimetype": "text/x-python",
   "name": "python",
   "nbconvert_exporter": "python",
   "pygments_lexer": "ipython3",
   "version": "3.8.2"
  }
 },
 "nbformat": 4,
 "nbformat_minor": 4
}
